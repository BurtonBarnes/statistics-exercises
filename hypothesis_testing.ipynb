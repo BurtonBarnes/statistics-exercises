{
 "cells": [
  {
   "cell_type": "code",
   "execution_count": null,
   "id": "0c2b67be",
   "metadata": {},
   "outputs": [],
   "source": [
    "#Hypothesis testing overview questions\n",
    "#Has the network latency gone up since we switched internet service providers?\n",
    "H_0: The network latency has not gone up since switching internet service providers. latency_a <= latency_b\n",
    "Ha: The network latency has gone up since switching internet service providers. latency_a > latency_b\n",
    "\n",
    "True positive: network latency has gone up with internet service provider\n",
    "True negative: network latency has not gone up with internat service provider\n",
    "Type I: network latency is said to have gone up when it has not with internat service provider\n",
    "Type II: network latnecy is said to have not gone up when it has with internat service provider"
   ]
  },
  {
   "cell_type": "code",
   "execution_count": null,
   "id": "07a03884",
   "metadata": {},
   "outputs": [],
   "source": [
    "# Is the website redesign any good?\n",
    "H_0: the website redesign is not good. visitors_old >= visitors_now\n",
    "Ha: the website redesign is good. visitors_old < visitors_now\n",
    "\n",
    "True positive: visitors spend more time, we said so\n",
    "True negative: visitors spend less or even amount of time, we said so\n",
    "Type I: the redesign is said to be good when it is not\n",
    "Type II: the redesign is not shown to be good when it is"
   ]
  },
  {
   "cell_type": "code",
   "execution_count": null,
   "id": "19cf1389",
   "metadata": {},
   "outputs": [],
   "source": [
    "#Is our television ad driving more sales?\n",
    "H_0: The television ad is not driving more sales. pre-ad-sales >= post-ad sales\n",
    "Ha: the television ad is driving more sales. pre-ad-sales < post-ad sales\n",
    "\n",
    "True positive: post ad sales is greater then pre ad sales\n",
    "True negative: post ad sales is not greater then pre ad sales\n",
    "Type I: post ad sales are shown as increasing when they are not\n",
    "Type II: post ad sales are as decreasing or remaining the same when they are increasing"
   ]
  },
  {
   "cell_type": "code",
   "execution_count": null,
   "id": "beaaec19",
   "metadata": {},
   "outputs": [],
   "source": [
    "# T-Test Questions\n",
    "#1.\n",
    "#a. Is there a difference in grades of students on the second floor compared to grades of all students?\n",
    "One Sample T-Test"
   ]
  },
  {
   "cell_type": "code",
   "execution_count": null,
   "id": "8bc9af5d",
   "metadata": {},
   "outputs": [],
   "source": [
    "#b. Are adults who drink milk taller than adults who dont drink milk?\n",
    "Two Sample T-Test"
   ]
  },
  {
   "cell_type": "code",
   "execution_count": null,
   "id": "06f295ab",
   "metadata": {},
   "outputs": [],
   "source": [
    "#c. Is the the price of gas higher in texas or in new mexico?\n",
    "Two Sample T-Test"
   ]
  },
  {
   "cell_type": "code",
   "execution_count": 2,
   "id": "16eea37f",
   "metadata": {},
   "outputs": [],
   "source": [
    "#d. Are there differences in stress levels between students who take data science vs students who take web development vs students who take cloud academy?\n",
    "ANOVA Analysis of Variance"
   ]
  },
  {
   "cell_type": "code",
   "execution_count": null,
   "id": "372ff879",
   "metadata": {},
   "outputs": [],
   "source": [
    "#2.\n"
   ]
  }
 ],
 "metadata": {
  "kernelspec": {
   "display_name": "Python 3 (ipykernel)",
   "language": "python",
   "name": "python3"
  },
  "language_info": {
   "codemirror_mode": {
    "name": "ipython",
    "version": 3
   },
   "file_extension": ".py",
   "mimetype": "text/x-python",
   "name": "python",
   "nbconvert_exporter": "python",
   "pygments_lexer": "ipython3",
   "version": "3.9.12"
  }
 },
 "nbformat": 4,
 "nbformat_minor": 5
}
