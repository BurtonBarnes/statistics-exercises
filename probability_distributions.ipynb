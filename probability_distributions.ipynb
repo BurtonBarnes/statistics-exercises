{
 "cells": [
  {
   "cell_type": "code",
   "execution_count": 1,
   "id": "5d8b03fb",
   "metadata": {},
   "outputs": [
    {
     "ename": "ModuleNotFoundError",
     "evalue": "No module named 'viz'",
     "output_type": "error",
     "traceback": [
      "\u001b[0;31m---------------------------------------------------------------------------\u001b[0m",
      "\u001b[0;31mModuleNotFoundError\u001b[0m                       Traceback (most recent call last)",
      "Input \u001b[0;32mIn [1]\u001b[0m, in \u001b[0;36m<cell line: 4>\u001b[0;34m()\u001b[0m\n\u001b[1;32m      2\u001b[0m \u001b[38;5;28;01mimport\u001b[39;00m \u001b[38;5;21;01mnumpy\u001b[39;00m \u001b[38;5;28;01mas\u001b[39;00m \u001b[38;5;21;01mnp\u001b[39;00m\n\u001b[1;32m      3\u001b[0m \u001b[38;5;28;01mfrom\u001b[39;00m \u001b[38;5;21;01mscipy\u001b[39;00m \u001b[38;5;28;01mimport\u001b[39;00m stats\n\u001b[0;32m----> 4\u001b[0m \u001b[38;5;28;01mimport\u001b[39;00m \u001b[38;5;21;01mviz\u001b[39;00m \u001b[38;5;66;03m# curriculum viz example code\u001b[39;00m\n\u001b[1;32m      6\u001b[0m np\u001b[38;5;241m.\u001b[39mrandom\u001b[38;5;241m.\u001b[39mseed(\u001b[38;5;241m123\u001b[39m)\n",
      "\u001b[0;31mModuleNotFoundError\u001b[0m: No module named 'viz'"
     ]
    }
   ],
   "source": [
    "import matplotlib.pyplot as plt\n",
    "import numpy as np\n",
    "from scipy import stats\n",
    "import viz # curriculum viz example code\n",
    "\n",
    "np.random.seed(123)\n"
   ]
  },
  {
   "cell_type": "code",
   "execution_count": 2,
   "id": "418037b8",
   "metadata": {},
   "outputs": [],
   "source": [
    "#1.\n",
    "λ = 2\n",
    "\n",
    "avg_car = stats.poisson(λ)"
   ]
  },
  {
   "cell_type": "code",
   "execution_count": 3,
   "id": "60da1dcd",
   "metadata": {},
   "outputs": [
    {
     "data": {
      "text/plain": [
       "0.1353352832366127"
      ]
     },
     "execution_count": 3,
     "metadata": {},
     "output_type": "execute_result"
    }
   ],
   "source": [
    "#probability that 0 cars show up\n",
    "avg_car.pmf(0)"
   ]
  },
  {
   "cell_type": "code",
   "execution_count": 103,
   "id": "0b52ff8f",
   "metadata": {},
   "outputs": [
    {
     "data": {
      "text/plain": [
       "0.14287653950145296"
      ]
     },
     "execution_count": 103,
     "metadata": {},
     "output_type": "execute_result"
    }
   ],
   "source": [
    "# probability that three or more cars show up\n",
    "avg_car.sf(3)"
   ]
  },
  {
   "cell_type": "code",
   "execution_count": 7,
   "id": "66f78225",
   "metadata": {},
   "outputs": [
    {
     "data": {
      "text/plain": [
       "0.5939941502901616"
      ]
     },
     "execution_count": 7,
     "metadata": {},
     "output_type": "execute_result"
    }
   ],
   "source": [
    "#probability at least one\n",
    "avg_car.sf(1)"
   ]
  },
  {
   "cell_type": "code",
   "execution_count": 105,
   "id": "88ebb138",
   "metadata": {},
   "outputs": [],
   "source": [
    "#2.\n",
    "σ = 0.3\n",
    "μ = 3\n",
    "\n",
    "grades = stats.norm(μ, σ)"
   ]
  },
  {
   "cell_type": "code",
   "execution_count": 106,
   "id": "0bec0ee6",
   "metadata": {},
   "outputs": [
    {
     "data": {
      "text/plain": [
       "3.4934560880854417"
      ]
     },
     "execution_count": 106,
     "metadata": {},
     "output_type": "execute_result"
    }
   ],
   "source": [
    "# top 5%\n",
    "grades.isf(0.05)"
   ]
  },
  {
   "cell_type": "code",
   "execution_count": 107,
   "id": "e1c617e9",
   "metadata": {},
   "outputs": [
    {
     "data": {
      "text/plain": [
       "2.689069983151863"
      ]
     },
     "execution_count": 107,
     "metadata": {},
     "output_type": "execute_result"
    }
   ],
   "source": [
    "#bottom 15%\n",
    "grades.ppf(0.15)"
   ]
  },
  {
   "cell_type": "code",
   "execution_count": 109,
   "id": "39c5bb09",
   "metadata": {},
   "outputs": [
    {
     "data": {
      "text/plain": [
       "array([2.74751363, 2.84267985])"
      ]
     },
     "execution_count": 109,
     "metadata": {},
     "output_type": "execute_result"
    }
   ],
   "source": [
    "# eccentric alumni\n",
    "range_of_gpas = grades.ppf([0.2,0.3])\n",
    "range_of_gpas"
   ]
  },
  {
   "cell_type": "code",
   "execution_count": 11,
   "id": "0509df10",
   "metadata": {},
   "outputs": [
    {
     "data": {
      "text/plain": [
       "0.0477903522728147"
      ]
     },
     "execution_count": 11,
     "metadata": {},
     "output_type": "execute_result"
    }
   ],
   "source": [
    "# 3.5 GPA, percentile\n",
    "grades.sf(3.5)"
   ]
  },
  {
   "cell_type": "code",
   "execution_count": 12,
   "id": "3dfd15cd",
   "metadata": {},
   "outputs": [],
   "source": [
    "#3.\n",
    "λ = 0.02\n",
    "\n",
    "avg_click = stats.poisson(λ)"
   ]
  },
  {
   "cell_type": "code",
   "execution_count": 29,
   "id": "913e3f0a",
   "metadata": {},
   "outputs": [
    {
     "data": {
      "text/plain": [
       "0.0198013266932447"
      ]
     },
     "execution_count": 29,
     "metadata": {},
     "output_type": "execute_result"
    }
   ],
   "source": [
    "avg_click.sf(0.022)"
   ]
  },
  {
   "cell_type": "code",
   "execution_count": 110,
   "id": "195d200a",
   "metadata": {},
   "outputs": [
    {
     "data": {
      "text/plain": [
       "0.45284335760923855"
      ]
     },
     "execution_count": 110,
     "metadata": {},
     "output_type": "execute_result"
    }
   ],
   "source": [
    "#4.\n",
    "n = 60\n",
    "p = 0.01\n",
    "\n",
    "stats.binom(n, p).sf(0)"
   ]
  },
  {
   "cell_type": "code",
   "execution_count": 111,
   "id": "95a0e426",
   "metadata": {},
   "outputs": [
    {
     "data": {
      "text/plain": [
       "0.8342199288437352"
      ]
     },
     "execution_count": 111,
     "metadata": {},
     "output_type": "execute_result"
    }
   ],
   "source": [
    "#5.\n",
    "#likelyhood that one student will clean the room\n",
    "n = round(0.9* 3 * 22)\n",
    "p = 0.03\n",
    "\n",
    "stats.binom(n, p).sf(0)"
   ]
  },
  {
   "cell_type": "code",
   "execution_count": 112,
   "id": "ab52156e",
   "metadata": {},
   "outputs": [
    {
     "data": {
      "text/plain": [
       "0.027483031992576134"
      ]
     },
     "execution_count": 112,
     "metadata": {},
     "output_type": "execute_result"
    }
   ],
   "source": [
    "stats.binom(n*2, p).pmf(0)"
   ]
  },
  {
   "cell_type": "code",
   "execution_count": 113,
   "id": "8c24077a",
   "metadata": {},
   "outputs": [
    {
     "data": {
      "text/plain": [
       "0.00012521651388091245"
      ]
     },
     "execution_count": 113,
     "metadata": {},
     "output_type": "execute_result"
    }
   ],
   "source": [
    "stats.binom(n*5, p).pmf(0)"
   ]
  },
  {
   "cell_type": "code",
   "execution_count": 21,
   "id": "befd71b4",
   "metadata": {},
   "outputs": [],
   "source": [
    "#6.\n",
    "μ = 15\n",
    "σ = 3\n",
    "\n",
    "panad = stats.norm(μ, σ)"
   ]
  },
  {
   "cell_type": "code",
   "execution_count": 27,
   "id": "1730afd7",
   "metadata": {},
   "outputs": [
    {
     "data": {
      "text/plain": [
       "0.7976716190363569"
      ]
     },
     "execution_count": 27,
     "metadata": {},
     "output_type": "execute_result"
    }
   ],
   "source": [
    "panad.cdf(17.5)"
   ]
  },
  {
   "cell_type": "code",
   "execution_count": 45,
   "id": "9255c870",
   "metadata": {},
   "outputs": [],
   "source": [
    "import pandas as pd\n",
    "import numpy as np"
   ]
  },
  {
   "cell_type": "code",
   "execution_count": 46,
   "id": "9797a4ac",
   "metadata": {},
   "outputs": [],
   "source": [
    "from env import host, user, password\n",
    "\n",
    "url = f'mysql+pymysql://{user}:{password}@{host}/employees'"
   ]
  },
  {
   "cell_type": "code",
   "execution_count": 50,
   "id": "3cfb36bf",
   "metadata": {},
   "outputs": [],
   "source": [
    "#7.\n",
    "salary = pd.read_sql('SELECT salary FROM salaries', url)"
   ]
  },
  {
   "cell_type": "code",
   "execution_count": 82,
   "id": "6c4ddf0f",
   "metadata": {},
   "outputs": [
    {
     "data": {
      "text/plain": [
       "salary    181480757419\n",
       "dtype: int64"
      ]
     },
     "execution_count": 82,
     "metadata": {},
     "output_type": "execute_result"
    }
   ],
   "source": [
    "salary.sum()"
   ]
  },
  {
   "cell_type": "code",
   "execution_count": 55,
   "id": "51d81519",
   "metadata": {},
   "outputs": [
    {
     "data": {
      "text/plain": [
       "2844047"
      ]
     },
     "execution_count": 55,
     "metadata": {},
     "output_type": "execute_result"
    }
   ],
   "source": [
    "len(salary)"
   ]
  },
  {
   "cell_type": "code",
   "execution_count": 61,
   "id": "dbae2695",
   "metadata": {},
   "outputs": [],
   "source": [
    "meansal = salary.sum()/len(salary)"
   ]
  },
  {
   "cell_type": "code",
   "execution_count": 62,
   "id": "da822b4d",
   "metadata": {},
   "outputs": [
    {
     "data": {
      "text/plain": [
       "salary    63810.744836\n",
       "dtype: float64"
      ]
     },
     "execution_count": 62,
     "metadata": {},
     "output_type": "execute_result"
    }
   ],
   "source": [
    "meansal"
   ]
  },
  {
   "cell_type": "code",
   "execution_count": 75,
   "id": "ba77984e",
   "metadata": {},
   "outputs": [],
   "source": [
    "std = salary.std()"
   ]
  },
  {
   "cell_type": "code",
   "execution_count": 76,
   "id": "17bb1878",
   "metadata": {},
   "outputs": [
    {
     "data": {
      "text/plain": [
       "salary    16904.83126\n",
       "dtype: float64"
      ]
     },
     "execution_count": 76,
     "metadata": {},
     "output_type": "execute_result"
    }
   ],
   "source": [
    "std"
   ]
  },
  {
   "cell_type": "code",
   "execution_count": 88,
   "id": "f5559213",
   "metadata": {},
   "outputs": [],
   "source": [
    "μ = 63810.74\n",
    "σ = 16904.83\n",
    "\n",
    "salemp = stats.norm(μ, σ)"
   ]
  },
  {
   "cell_type": "code",
   "execution_count": 89,
   "id": "18b74c46",
   "metadata": {},
   "outputs": [
    {
     "data": {
      "text/plain": [
       "<scipy.stats._distn_infrastructure.rv_frozen at 0x7fa89ad14a90>"
      ]
     },
     "execution_count": 89,
     "metadata": {},
     "output_type": "execute_result"
    }
   ],
   "source": [
    "salemp"
   ]
  },
  {
   "cell_type": "code",
   "execution_count": 91,
   "id": "dc0b6705",
   "metadata": {},
   "outputs": [
    {
     "data": {
      "text/plain": [
       "0.4108250526452645"
      ]
     },
     "execution_count": 91,
     "metadata": {},
     "output_type": "execute_result"
    }
   ],
   "source": [
    "#7.a.\n",
    "salemp.cdf(60_000)"
   ]
  },
  {
   "cell_type": "code",
   "execution_count": 95,
   "id": "3e1705a4",
   "metadata": {},
   "outputs": [
    {
     "data": {
      "text/plain": [
       "0.03251942050035832"
      ]
     },
     "execution_count": 95,
     "metadata": {},
     "output_type": "execute_result"
    }
   ],
   "source": [
    "#7.b.\n",
    "salemp.sf(95_000)"
   ]
  },
  {
   "cell_type": "code",
   "execution_count": 98,
   "id": "506436ca",
   "metadata": {},
   "outputs": [
    {
     "data": {
      "text/plain": [
       "(0.47195742076798836, 0.8308855763910636)"
      ]
     },
     "execution_count": 98,
     "metadata": {},
     "output_type": "execute_result"
    }
   ],
   "source": [
    "#7.c. Incomplete\n",
    "salemp.sf(65_000),salemp.cdf(80_000)"
   ]
  },
  {
   "cell_type": "code",
   "execution_count": 99,
   "id": "febb686c",
   "metadata": {},
   "outputs": [
    {
     "data": {
      "text/plain": [
       "91616.71093849807"
      ]
     },
     "execution_count": 99,
     "metadata": {},
     "output_type": "execute_result"
    }
   ],
   "source": [
    "#7.d.\n",
    "salemp.isf(0.05)"
   ]
  }
 ],
 "metadata": {
  "kernelspec": {
   "display_name": "Python 3 (ipykernel)",
   "language": "python",
   "name": "python3"
  },
  "language_info": {
   "codemirror_mode": {
    "name": "ipython",
    "version": 3
   },
   "file_extension": ".py",
   "mimetype": "text/x-python",
   "name": "python",
   "nbconvert_exporter": "python",
   "pygments_lexer": "ipython3",
   "version": "3.9.12"
  }
 },
 "nbformat": 4,
 "nbformat_minor": 5
}
