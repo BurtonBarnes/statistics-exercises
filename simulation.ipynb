{
 "cells": [
  {
   "cell_type": "code",
   "execution_count": 2,
   "id": "3fd1b278",
   "metadata": {},
   "outputs": [
    {
     "ename": "ModuleNotFoundError",
     "evalue": "No module named 'viz'",
     "output_type": "error",
     "traceback": [
      "\u001b[0;31m---------------------------------------------------------------------------\u001b[0m",
      "\u001b[0;31mModuleNotFoundError\u001b[0m                       Traceback (most recent call last)",
      "Input \u001b[0;32mIn [2]\u001b[0m, in \u001b[0;36m<cell line: 5>\u001b[0;34m()\u001b[0m\n\u001b[1;32m      2\u001b[0m \u001b[38;5;28;01mimport\u001b[39;00m \u001b[38;5;21;01mnumpy\u001b[39;00m \u001b[38;5;28;01mas\u001b[39;00m \u001b[38;5;21;01mnp\u001b[39;00m\n\u001b[1;32m      3\u001b[0m \u001b[38;5;28;01mimport\u001b[39;00m \u001b[38;5;21;01mpandas\u001b[39;00m \u001b[38;5;28;01mas\u001b[39;00m \u001b[38;5;21;01mpd\u001b[39;00m\n\u001b[0;32m----> 5\u001b[0m \u001b[38;5;28;01mimport\u001b[39;00m \u001b[38;5;21;01mviz\u001b[39;00m \u001b[38;5;66;03m# curriculum example visualizations\u001b[39;00m\n\u001b[1;32m      7\u001b[0m np\u001b[38;5;241m.\u001b[39mrandom\u001b[38;5;241m.\u001b[39mseed(\u001b[38;5;241m29\u001b[39m)\n",
      "\u001b[0;31mModuleNotFoundError\u001b[0m: No module named 'viz'"
     ]
    }
   ],
   "source": [
    "%matplotlib inline\n",
    "import numpy as np\n",
    "import pandas as pd\n",
    "\n",
    "import viz # curriculum example visualizations\n",
    "\n",
    "np.random.seed(29)\n"
   ]
  },
  {
   "cell_type": "code",
   "execution_count": 4,
   "id": "0333985d",
   "metadata": {},
   "outputs": [
    {
     "data": {
      "text/plain": [
       "array([[2, 2],\n",
       "       [6, 1],\n",
       "       [6, 4],\n",
       "       ...,\n",
       "       [3, 6],\n",
       "       [4, 1],\n",
       "       [4, 3]])"
      ]
     },
     "execution_count": 4,
     "metadata": {},
     "output_type": "execute_result"
    }
   ],
   "source": [
    "#1.\n",
    "n_trials = nrows = 10_000\n",
    "n_dice = ncols = 2\n",
    "\n",
    "rolls = np.random.choice([1, 2, 3, 4, 5, 6], n_trials * n_dice).reshape(nrows, ncols)\n",
    "rolls"
   ]
  },
  {
   "cell_type": "code",
   "execution_count": 5,
   "id": "3e30f801",
   "metadata": {},
   "outputs": [
    {
     "data": {
      "text/plain": [
       "array([[2, 2],\n",
       "       [6, 1],\n",
       "       [6, 4],\n",
       "       ...,\n",
       "       [3, 6],\n",
       "       [4, 1],\n",
       "       [4, 3]])"
      ]
     },
     "execution_count": 5,
     "metadata": {},
     "output_type": "execute_result"
    }
   ],
   "source": [
    "rolls"
   ]
  },
  {
   "cell_type": "code",
   "execution_count": 9,
   "id": "c0f9e059",
   "metadata": {},
   "outputs": [
    {
     "data": {
      "text/plain": [
       "array([[0, 1, 1, 1, 0, 0, 1, 1],\n",
       "       [0, 0, 0, 1, 1, 1, 1, 1],\n",
       "       [1, 1, 0, 0, 1, 0, 0, 0],\n",
       "       [1, 1, 1, 1, 1, 0, 0, 0],\n",
       "       [0, 0, 1, 1, 0, 0, 0, 1],\n",
       "       [1, 0, 1, 1, 1, 0, 1, 0],\n",
       "       [0, 0, 0, 1, 0, 1, 1, 1],\n",
       "       [0, 1, 1, 0, 1, 0, 1, 0],\n",
       "       [1, 0, 1, 0, 1, 0, 0, 0],\n",
       "       [1, 1, 1, 1, 0, 0, 1, 1],\n",
       "       [0, 1, 1, 0, 1, 1, 0, 0],\n",
       "       [1, 0, 1, 0, 0, 1, 1, 1],\n",
       "       [1, 1, 0, 0, 0, 1, 0, 0],\n",
       "       [1, 0, 0, 1, 0, 0, 0, 1],\n",
       "       [0, 1, 1, 0, 0, 0, 1, 0],\n",
       "       [0, 1, 0, 1, 0, 1, 0, 1],\n",
       "       [1, 0, 0, 0, 1, 1, 0, 1],\n",
       "       [0, 0, 0, 0, 1, 1, 1, 0],\n",
       "       [1, 0, 1, 1, 0, 0, 0, 1],\n",
       "       [1, 0, 1, 0, 0, 1, 1, 1],\n",
       "       [0, 1, 0, 1, 1, 0, 0, 1],\n",
       "       [0, 0, 0, 0, 0, 1, 1, 0],\n",
       "       [1, 1, 1, 1, 0, 0, 0, 1],\n",
       "       [0, 1, 0, 0, 0, 1, 0, 1],\n",
       "       [0, 1, 0, 0, 0, 1, 1, 0],\n",
       "       [0, 1, 1, 1, 0, 1, 0, 1],\n",
       "       [1, 0, 0, 1, 0, 1, 0, 1],\n",
       "       [1, 0, 0, 0, 0, 1, 1, 1],\n",
       "       [0, 1, 1, 1, 1, 0, 1, 0],\n",
       "       [1, 0, 0, 0, 1, 1, 0, 0],\n",
       "       [1, 1, 1, 1, 0, 0, 0, 0],\n",
       "       [1, 1, 1, 1, 0, 1, 1, 0],\n",
       "       [0, 0, 1, 1, 0, 1, 1, 1],\n",
       "       [0, 0, 0, 1, 0, 1, 1, 0],\n",
       "       [0, 0, 1, 0, 1, 0, 0, 1],\n",
       "       [1, 0, 1, 1, 0, 1, 0, 0],\n",
       "       [1, 1, 0, 1, 0, 1, 0, 0],\n",
       "       [0, 1, 1, 0, 0, 1, 0, 0],\n",
       "       [1, 0, 1, 1, 1, 1, 0, 1],\n",
       "       [0, 1, 1, 0, 0, 0, 0, 0],\n",
       "       [0, 1, 1, 0, 1, 1, 0, 1],\n",
       "       [0, 1, 1, 0, 1, 0, 0, 1],\n",
       "       [1, 0, 0, 1, 0, 0, 0, 0],\n",
       "       [0, 1, 0, 0, 0, 1, 0, 0],\n",
       "       [1, 1, 1, 1, 1, 1, 1, 1],\n",
       "       [1, 1, 0, 0, 0, 1, 0, 1],\n",
       "       [0, 1, 0, 0, 1, 1, 1, 1],\n",
       "       [0, 1, 0, 1, 0, 1, 0, 1],\n",
       "       [1, 1, 1, 0, 0, 0, 1, 1],\n",
       "       [1, 0, 0, 0, 0, 1, 1, 1],\n",
       "       [1, 1, 1, 0, 0, 1, 0, 1],\n",
       "       [1, 1, 0, 0, 0, 0, 0, 1],\n",
       "       [0, 1, 0, 0, 0, 1, 0, 1],\n",
       "       [0, 0, 1, 1, 1, 1, 0, 0],\n",
       "       [0, 1, 0, 1, 0, 0, 0, 1],\n",
       "       [1, 0, 0, 1, 1, 0, 0, 1],\n",
       "       [1, 0, 0, 1, 1, 0, 1, 0],\n",
       "       [1, 1, 0, 0, 1, 0, 1, 0],\n",
       "       [1, 0, 0, 1, 1, 1, 0, 1],\n",
       "       [1, 1, 1, 0, 1, 1, 0, 0],\n",
       "       [0, 0, 0, 1, 1, 0, 1, 1],\n",
       "       [1, 1, 1, 1, 0, 0, 0, 1],\n",
       "       [1, 1, 0, 0, 0, 1, 0, 1],\n",
       "       [1, 0, 0, 1, 1, 0, 0, 0],\n",
       "       [1, 1, 1, 1, 0, 0, 1, 1],\n",
       "       [0, 1, 1, 1, 0, 1, 0, 1],\n",
       "       [1, 0, 1, 0, 1, 0, 0, 0],\n",
       "       [1, 1, 1, 0, 1, 1, 0, 0],\n",
       "       [1, 1, 1, 0, 1, 1, 1, 1],\n",
       "       [0, 1, 1, 0, 1, 1, 0, 0],\n",
       "       [0, 0, 1, 0, 1, 1, 0, 0],\n",
       "       [1, 0, 0, 0, 0, 1, 1, 0],\n",
       "       [1, 0, 1, 0, 1, 1, 0, 1],\n",
       "       [0, 1, 1, 1, 1, 1, 1, 1],\n",
       "       [1, 1, 0, 1, 0, 1, 1, 1],\n",
       "       [1, 0, 1, 1, 1, 1, 1, 0],\n",
       "       [0, 0, 1, 0, 1, 1, 1, 1],\n",
       "       [0, 1, 0, 0, 0, 0, 1, 0],\n",
       "       [0, 0, 1, 0, 0, 0, 1, 1],\n",
       "       [0, 0, 0, 0, 1, 1, 1, 1],\n",
       "       [0, 0, 0, 0, 1, 1, 0, 0],\n",
       "       [0, 1, 1, 0, 0, 0, 0, 0],\n",
       "       [0, 1, 0, 0, 0, 0, 1, 1],\n",
       "       [0, 1, 0, 0, 1, 1, 0, 1],\n",
       "       [0, 0, 1, 1, 0, 1, 0, 0],\n",
       "       [0, 1, 0, 1, 1, 0, 1, 1],\n",
       "       [0, 1, 1, 1, 0, 0, 1, 0],\n",
       "       [1, 0, 0, 1, 0, 0, 0, 1],\n",
       "       [1, 1, 1, 0, 1, 1, 0, 0],\n",
       "       [1, 0, 0, 1, 1, 0, 1, 0],\n",
       "       [1, 1, 1, 0, 1, 0, 1, 0],\n",
       "       [1, 0, 1, 1, 1, 0, 0, 0],\n",
       "       [1, 0, 0, 1, 0, 0, 1, 1],\n",
       "       [1, 1, 1, 0, 0, 0, 1, 1],\n",
       "       [1, 0, 1, 0, 0, 1, 0, 1],\n",
       "       [1, 1, 0, 1, 0, 1, 0, 0],\n",
       "       [0, 0, 1, 0, 1, 1, 1, 0],\n",
       "       [0, 0, 1, 0, 0, 0, 1, 0],\n",
       "       [1, 1, 0, 1, 0, 1, 1, 1],\n",
       "       [0, 1, 0, 0, 0, 0, 1, 1]])"
      ]
     },
     "execution_count": 9,
     "metadata": {},
     "output_type": "execute_result"
    }
   ],
   "source": [
    "#2.\n",
    "n_flips = nrows = 100\n",
    "n_coin = ncols = 8\n",
    "\n",
    "flips = np.random.choice([0,1], n_flips * n_coin).reshape(nrows, ncols)\n",
    "flips"
   ]
  },
  {
   "cell_type": "code",
   "execution_count": 13,
   "id": "41b2b4af",
   "metadata": {},
   "outputs": [
    {
     "data": {
      "text/plain": [
       "0.25"
      ]
     },
     "execution_count": 13,
     "metadata": {},
     "output_type": "execute_result"
    }
   ],
   "source": [
    "# probability of getting three heads\n",
    "(flips.sum(axis=1) == 3).mean()"
   ]
  },
  {
   "cell_type": "code",
   "execution_count": 14,
   "id": "e89bdb85",
   "metadata": {},
   "outputs": [
    {
     "data": {
      "text/plain": [
       "0.67"
      ]
     },
     "execution_count": 14,
     "metadata": {},
     "output_type": "execute_result"
    }
   ],
   "source": [
    "#probability of getting more than three heads\n",
    "(flips.sum(axis=1) > 3).mean()"
   ]
  },
  {
   "cell_type": "code",
   "execution_count": 56,
   "id": "d1724cd1",
   "metadata": {},
   "outputs": [
    {
     "data": {
      "text/plain": [
       "array([[0.12953377, 0.8135948 ],\n",
       "       [0.21065289, 0.6948041 ],\n",
       "       [0.97271565, 0.21492641],\n",
       "       ...,\n",
       "       [0.11093306, 0.25020301],\n",
       "       [0.60635206, 0.79718797],\n",
       "       [0.57556138, 0.16261102]])"
      ]
     },
     "execution_count": 56,
     "metadata": {},
     "output_type": "execute_result"
    }
   ],
   "source": [
    "#3.\n",
    "alumni = 0.25\n",
    "n_alumni = nrows = 1_000\n",
    "n_boards = ncols = 2\n",
    "\n",
    "data = np.random.random((nrows,ncols))\n",
    "data"
   ]
  },
  {
   "cell_type": "code",
   "execution_count": 57,
   "id": "aa87c484",
   "metadata": {},
   "outputs": [
    {
     "data": {
      "text/plain": [
       "array([[ True, False],\n",
       "       [ True, False],\n",
       "       [False,  True],\n",
       "       ...,\n",
       "       [ True, False],\n",
       "       [False, False],\n",
       "       [False,  True]])"
      ]
     },
     "execution_count": 57,
     "metadata": {},
     "output_type": "execute_result"
    }
   ],
   "source": [
    "dataonbill = data < alumni\n",
    "dataonbill"
   ]
  },
  {
   "cell_type": "code",
   "execution_count": 58,
   "id": "bcc69653",
   "metadata": {},
   "outputs": [
    {
     "data": {
      "text/plain": [
       "0.067"
      ]
     },
     "execution_count": 58,
     "metadata": {},
     "output_type": "execute_result"
    }
   ],
   "source": [
    "#likelyhood that both billboards will have datascientists\n",
    "(dataonbill.sum(axis=1) ==2).mean()"
   ]
  },
  {
   "cell_type": "code",
   "execution_count": 76,
   "id": "c4114928",
   "metadata": {},
   "outputs": [
    {
     "data": {
      "text/plain": [
       "array([[-0.22124636,  4.40009037,  3.20030531, ...,  2.38452376,\n",
       "         3.66298401,  1.58339436],\n",
       "       [ 1.0296041 ,  2.74759751,  4.81439215, ...,  2.31056789,\n",
       "         0.99890327,  5.04583891],\n",
       "       [ 2.91059067,  4.45824522,  0.76067502, ...,  1.10007762,\n",
       "         2.79408875,  4.55386084],\n",
       "       [ 3.58328302,  1.38414888,  0.41583161, ...,  4.78939923,\n",
       "         3.80766968,  4.94743281],\n",
       "       [ 4.81012811,  3.57255802,  4.50293254, ...,  0.91691388,\n",
       "         1.55782498,  2.43906418]])"
      ]
     },
     "execution_count": 76,
     "metadata": {},
     "output_type": "execute_result"
    }
   ],
   "source": [
    "#4.\n",
    "popt = np.random.normal(loc=3, scale=1.5, size=1_000)\n",
    "popt"
   ]
  },
  {
   "cell_type": "code",
   "execution_count": 78,
   "id": "0de85e2e",
   "metadata": {},
   "outputs": [
    {
     "data": {
      "text/plain": [
       "1.0"
      ]
     },
     "execution_count": 78,
     "metadata": {},
     "output_type": "execute_result"
    }
   ],
   "source": [
    "(popt.sum(axis=1) >= 17).mean()"
   ]
  },
  {
   "cell_type": "markdown",
   "id": "74f1e6ef",
   "metadata": {},
   "source": [
    "5."
   ]
  },
  {
   "cell_type": "code",
   "execution_count": 63,
   "id": "2cdbfc2d",
   "metadata": {},
   "outputs": [],
   "source": [
    "#Men\n",
    "men = np.random.normal(loc=178, scale=8, size=1_000)"
   ]
  },
  {
   "cell_type": "code",
   "execution_count": 64,
   "id": "65f9e85a",
   "metadata": {},
   "outputs": [],
   "source": [
    "#women\n",
    "women = np.random.normal(loc=170, scale=6, size=1_000)"
   ]
  },
  {
   "cell_type": "code",
   "execution_count": 69,
   "id": "7a975313",
   "metadata": {},
   "outputs": [
    {
     "data": {
      "text/plain": [
       "0.204"
      ]
     },
     "execution_count": 69,
     "metadata": {},
     "output_type": "execute_result"
    }
   ],
   "source": [
    "#likelyhood that the woman is taller than the man\n",
    "((men-women) < 0).mean()"
   ]
  },
  {
   "cell_type": "code",
   "execution_count": 53,
   "id": "0ab4a9fb",
   "metadata": {},
   "outputs": [
    {
     "data": {
      "text/plain": [
       "array([[0.11598337, 0.02121683, 0.39144881, ..., 0.08290556, 0.33461421,\n",
       "        0.23068145],\n",
       "       [0.74156238, 0.73721924, 0.47624484, ..., 0.61044447, 0.95918606,\n",
       "        0.02987974],\n",
       "       [0.63317486, 0.69512549, 0.34713767, ..., 0.65869774, 0.03072926,\n",
       "        0.42351454],\n",
       "       ...,\n",
       "       [0.62813244, 0.1294071 , 0.19850292, ..., 0.84315162, 0.607129  ,\n",
       "        0.48340558],\n",
       "       [0.30643157, 0.01424749, 0.87505745, ..., 0.38481817, 0.08540296,\n",
       "        0.54267052],\n",
       "       [0.3658996 , 0.07792629, 0.47582813, ..., 0.14595071, 0.18617073,\n",
       "        0.82350666]])"
      ]
     },
     "execution_count": 53,
     "metadata": {},
     "output_type": "execute_result"
    }
   ],
   "source": [
    "#6.\n",
    "achance = 0.004\n",
    "nrows = 10_000\n",
    "ncols = 100\n",
    "\n",
    "data = np.random.random((nrows,ncols))\n",
    "data"
   ]
  },
  {
   "cell_type": "code",
   "execution_count": 54,
   "id": "42d315e7",
   "metadata": {},
   "outputs": [
    {
     "data": {
      "text/plain": [
       "array([[False, False, False, ..., False, False, False],\n",
       "       [False, False, False, ..., False, False, False],\n",
       "       [False, False, False, ..., False, False, False],\n",
       "       ...,\n",
       "       [False, False, False, ..., False, False, False],\n",
       "       [False, False, False, ..., False, False, False],\n",
       "       [False, False, False, ..., False, False, False]])"
      ]
     },
     "execution_count": 54,
     "metadata": {},
     "output_type": "execute_result"
    }
   ],
   "source": [
    "nissue = data < achance\n",
    "nissue"
   ]
  },
  {
   "cell_type": "code",
   "execution_count": 52,
   "id": "257eb4c2",
   "metadata": {},
   "outputs": [
    {
     "data": {
      "text/plain": [
       "0.1791"
      ]
     },
     "execution_count": 52,
     "metadata": {},
     "output_type": "execute_result"
    }
   ],
   "source": [
    "#likley hood that one person in 50 will have issues downloading python\n",
    "(nissue.sum(axis=1) >= 1).mean()"
   ]
  },
  {
   "cell_type": "code",
   "execution_count": 55,
   "id": "f067dd84",
   "metadata": {},
   "outputs": [
    {
     "data": {
      "text/plain": [
       "0.3278"
      ]
     },
     "execution_count": 55,
     "metadata": {},
     "output_type": "execute_result"
    }
   ],
   "source": [
    "#likley hood that one person in 100 will have issues downloading python\n",
    "(nissue.sum(axis=1) >= 1).mean()"
   ]
  },
  {
   "cell_type": "code",
   "execution_count": 28,
   "id": "22845b0d",
   "metadata": {},
   "outputs": [
    {
     "data": {
      "text/plain": [
       "array([[0.75915893, 0.61005182, 0.09861614],\n",
       "       [0.59261423, 0.69134715, 0.83563871],\n",
       "       [0.16700087, 0.13349341, 0.98332877],\n",
       "       ...,\n",
       "       [0.83262198, 0.65251991, 0.0142339 ],\n",
       "       [0.6726893 , 0.30978631, 0.27948281],\n",
       "       [0.67044515, 0.57320388, 0.04578356]])"
      ]
     },
     "execution_count": 28,
     "metadata": {},
     "output_type": "execute_result"
    }
   ],
   "source": [
    "#7.\n",
    "nday = 0.7\n",
    "nrows = 10_000\n",
    "ncols = 3\n",
    "\n",
    "data = np.random.random((nrows,ncols))\n",
    "data"
   ]
  },
  {
   "cell_type": "code",
   "execution_count": 30,
   "id": "c4ef17db",
   "metadata": {},
   "outputs": [
    {
     "data": {
      "text/plain": [
       "array([[ True, False, False],\n",
       "       [False, False,  True],\n",
       "       [False, False,  True],\n",
       "       ...,\n",
       "       [ True, False, False],\n",
       "       [False, False, False],\n",
       "       [False, False, False]])"
      ]
     },
     "execution_count": 30,
     "metadata": {},
     "output_type": "execute_result"
    }
   ],
   "source": [
    "foodt = data > nday\n",
    "foodt"
   ]
  },
  {
   "cell_type": "code",
   "execution_count": 32,
   "id": "8e4b1d7c",
   "metadata": {},
   "outputs": [
    {
     "data": {
      "text/plain": [
       "0.0273"
      ]
     },
     "execution_count": 32,
     "metadata": {},
     "output_type": "execute_result"
    }
   ],
   "source": [
    "#percentage unlikely that a food truck will not show up for three days\n",
    "(foodt.sum(axis=1) == 3).mean()"
   ]
  },
  {
   "cell_type": "code",
   "execution_count": 33,
   "id": "b1c0ac06",
   "metadata": {},
   "outputs": [
    {
     "data": {
      "text/plain": [
       "array([[0.49235805, 0.79832789, 0.96339742, ..., 0.54404531, 0.42414486,\n",
       "        0.87729532],\n",
       "       [0.83086327, 0.15981251, 0.11572462, ..., 0.9634073 , 0.10348083,\n",
       "        0.15894129],\n",
       "       [0.70240438, 0.10142925, 0.07618643, ..., 0.33775391, 0.66992824,\n",
       "        0.06196832],\n",
       "       ...,\n",
       "       [0.40605947, 0.71389002, 0.7986807 , ..., 0.86274216, 0.26277936,\n",
       "        0.57596357],\n",
       "       [0.30290423, 0.55884305, 0.29376264, ..., 0.55094707, 0.93974624,\n",
       "        0.48895478],\n",
       "       [0.39882285, 0.05579699, 0.25434245, ..., 0.32328869, 0.46079142,\n",
       "        0.10238454]])"
      ]
     },
     "execution_count": 33,
     "metadata": {},
     "output_type": "execute_result"
    }
   ],
   "source": [
    "nday = 0.7\n",
    "nrows = 10_000\n",
    "ncols = 7\n",
    "\n",
    "data = np.random.random((nrows,ncols))\n",
    "data"
   ]
  },
  {
   "cell_type": "code",
   "execution_count": 34,
   "id": "17e29d77",
   "metadata": {},
   "outputs": [
    {
     "data": {
      "text/plain": [
       "array([[ True, False, False, ...,  True,  True, False],\n",
       "       [False,  True,  True, ..., False,  True,  True],\n",
       "       [False,  True,  True, ...,  True,  True,  True],\n",
       "       ...,\n",
       "       [ True, False, False, ..., False,  True,  True],\n",
       "       [ True,  True,  True, ...,  True, False,  True],\n",
       "       [ True,  True,  True, ...,  True,  True,  True]])"
      ]
     },
     "execution_count": 34,
     "metadata": {},
     "output_type": "execute_result"
    }
   ],
   "source": [
    "foodt = data < nday\n",
    "foodt"
   ]
  },
  {
   "cell_type": "code",
   "execution_count": 35,
   "id": "a354776c",
   "metadata": {},
   "outputs": [
    {
     "data": {
      "text/plain": [
       "0.9999"
      ]
     },
     "execution_count": 35,
     "metadata": {},
     "output_type": "execute_result"
    }
   ],
   "source": [
    "#how likely a foodtruck will show up once in a week\n",
    "(foodt.sum(axis=1) >= 1).mean()"
   ]
  },
  {
   "cell_type": "code",
   "execution_count": 44,
   "id": "dce0e260",
   "metadata": {},
   "outputs": [
    {
     "data": {
      "text/plain": [
       "array([[0.99320164, 0.34047798, 0.02325714, ..., 0.97214892, 0.52939473,\n",
       "        0.95756974],\n",
       "       [0.33662686, 0.37859665, 0.58797102, ..., 0.50975395, 0.07584832,\n",
       "        0.40824589],\n",
       "       [0.57772002, 0.23906182, 0.22301584, ..., 0.31569268, 0.95422156,\n",
       "        0.02470499],\n",
       "       ...,\n",
       "       [0.60459967, 0.23473937, 0.57769502, ..., 0.70660868, 0.00545674,\n",
       "        0.04947924],\n",
       "       [0.25388505, 0.52894859, 0.17711724, ..., 0.07467866, 0.06400128,\n",
       "        0.50854343],\n",
       "       [0.87545664, 0.17066011, 0.6141465 , ..., 0.40223878, 0.13526865,\n",
       "        0.2200308 ]])"
      ]
     },
     "execution_count": 44,
     "metadata": {},
     "output_type": "execute_result"
    }
   ],
   "source": [
    "#8.\n",
    "nbirth = 0.0027\n",
    "nrows = 10_000\n",
    "ncols = 40\n",
    "\n",
    "data = np.random.random((nrows,ncols))\n",
    "data"
   ]
  },
  {
   "cell_type": "code",
   "execution_count": 45,
   "id": "c13343f9",
   "metadata": {},
   "outputs": [
    {
     "data": {
      "text/plain": [
       "array([[False, False, False, ..., False, False, False],\n",
       "       [False, False, False, ..., False, False, False],\n",
       "       [False, False, False, ..., False, False, False],\n",
       "       ...,\n",
       "       [False, False, False, ..., False, False, False],\n",
       "       [False, False, False, ..., False, False, False],\n",
       "       [False, False, False, ..., False, False, False]])"
      ]
     },
     "execution_count": 45,
     "metadata": {},
     "output_type": "execute_result"
    }
   ],
   "source": [
    "samed = data < nbirth\n",
    "samed"
   ]
  },
  {
   "cell_type": "code",
   "execution_count": 40,
   "id": "d2ac1691",
   "metadata": {},
   "outputs": [
    {
     "data": {
      "text/plain": [
       "0.062"
      ]
     },
     "execution_count": 40,
     "metadata": {},
     "output_type": "execute_result"
    }
   ],
   "source": [
    "#likelyhood that a group of twenty-three people and one of them will share a birthday with another\n",
    "(samed.sum(axis=1) >=1).mean()"
   ]
  },
  {
   "cell_type": "code",
   "execution_count": 43,
   "id": "3c05200f",
   "metadata": {},
   "outputs": [
    {
     "data": {
      "text/plain": [
       "0.051"
      ]
     },
     "execution_count": 43,
     "metadata": {},
     "output_type": "execute_result"
    }
   ],
   "source": [
    "#likelyhood that a group of twenty people and one of them will share a birthday with another\n",
    "(samed.sum(axis=1) >=1).mean()"
   ]
  },
  {
   "cell_type": "code",
   "execution_count": 46,
   "id": "68ded1fa",
   "metadata": {},
   "outputs": [
    {
     "data": {
      "text/plain": [
       "0.1061"
      ]
     },
     "execution_count": 46,
     "metadata": {},
     "output_type": "execute_result"
    }
   ],
   "source": [
    "#likelyhood that a group of fourty people and one of them will share a birthday with another\n",
    "(samed.sum(axis=1) >=1).mean()"
   ]
  },
  {
   "cell_type": "code",
   "execution_count": null,
   "id": "eedf0df5",
   "metadata": {},
   "outputs": [],
   "source": []
  }
 ],
 "metadata": {
  "kernelspec": {
   "display_name": "Python 3 (ipykernel)",
   "language": "python",
   "name": "python3"
  },
  "language_info": {
   "codemirror_mode": {
    "name": "ipython",
    "version": 3
   },
   "file_extension": ".py",
   "mimetype": "text/x-python",
   "name": "python",
   "nbconvert_exporter": "python",
   "pygments_lexer": "ipython3",
   "version": "3.9.12"
  }
 },
 "nbformat": 4,
 "nbformat_minor": 5
}
